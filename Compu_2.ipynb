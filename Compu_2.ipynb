{
 "cells": [
  {
   "cell_type": "markdown",
   "id": "1a7568a9",
   "metadata": {},
   "source": [
    "# Report of First Week\n",
    "\n",
    "$$\\text{Yuchen Ge} $$"
   ]
  },
  {
   "cell_type": "markdown",
   "id": "99dd1c12",
   "metadata": {},
   "source": [
    "# References\n",
    "\n",
    "[1] Thomas, Rekha R. “A Geometric Buchberger Algorithm for Integer Programming.” Mathematics of Operations Research, vol. 20, no. 4, 1995, pp. 864–884., https://doi.org/10.1287/moor.20.4.864.\n",
    "\n",
    "[2] Tayur, Sridhar R., et al. “An Algebraic Geometry Algorithm for Scheduling in Presence of Setups and Correlated Demands.” Mathematical Programming, vol. 69, no. 1-3, 1995, pp. 369–401., https://doi.org/10.1007/bf01585566.\n",
    "\n",
    "[3] Cox D., J. Little, et al.  \"Ideals Vairieties and Algorithms.\"\n",
    "\n",
    "[4] Biase, Fausto Di, and Rüdiger Urbanke. “An Algorithm to Calculate the Kernel of Certain Polynomial Ring Homomorphisms.” Experimental Mathematics, vol. 4, no. 3, 1995, pp. 227–234., https://doi.org/10.1080/10586458.1995.10504323.\n",
    "\n",
    "[5] Cox D., et al.  \"Using Algebraic Geometry\"."
   ]
  },
  {
   "cell_type": "markdown",
   "id": "15153279",
   "metadata": {},
   "source": [
    "# Ideas"
   ]
  },
  {
   "cell_type": "markdown",
   "id": "9a6b5b7a",
   "metadata": {},
   "source": [
    "To solve the problem $IP_{\\{A,c\\}}(b)$$^{[1]}$:\n",
    "$$\\text{min } \\{cx: Ax=b \\text{ and } x\\in N^{n}\\}\n",
    "$$\n",
    "\n",
    "where $A,b,c$ are all integer matrices. WLOG, we set out the problem to be bounded.\n",
    "\n",
    "First we need to transfer $IP_{A,c}$ to $IP_{A,>_{c}}$ where $>_c$ denotes the complete total order$^{[1]}$.\n",
    "Note that $>_c$ satisties (not a term order!)\n",
    "1. $>_c$ is a total order on $N^{n}$.\n",
    "2. $>_c$ is cmpatible with sum.\n",
    "\n",
    "Therefore we may make use of the refinement so as to get to the unique optimum."
   ]
  },
  {
   "cell_type": "markdown",
   "id": "cd3cbbb3",
   "metadata": {},
   "source": [
    "****"
   ]
  },
  {
   "cell_type": "markdown",
   "id": "28024986",
   "metadata": {},
   "source": [
    "The central ingredient is the concept of test set below which gives an obvious algorithm to solve an integer program provided we know a feasible solution to this program$^{[2]}$.\n",
    "\n",
    "**Def 1** We define test set $\\mathscr{G}_{>_{*}}\\in \\mathbb{Z}^{n}$ satistifies \n",
    "1. $\\forall \\alpha \\text{ non-optimal }  \\exists g\\in \\mathscr{G}_{>_{*}}$: $\\alpha-g\\text{ feasible} \\text{ and } \\alpha >_{c} \\alpha -g$\n",
    "2. $\\forall \\beta \\text{ optimal }  \\forall g\\in \\mathscr{G}_{>_{*}}$: $\\beta-g\\text{ infeasible}$"
   ]
  },
  {
   "cell_type": "markdown",
   "id": "4b569189",
   "metadata": {},
   "source": [
    "**Thm/Algorithm 1** $\\exists$ testing set."
   ]
  },
  {
   "cell_type": "markdown",
   "id": "0c2bb029",
   "metadata": {},
   "source": [
    "**Proof_1 (Geometric):** First we construct $\\mathscr{G}_{>_{c}}=\\{(\\alpha(i)-\\beta(i)),i=1,2,...,t\\}$ where $\\alpha(i)$ is given below and $\\beta(i)$ is the correpsponding unique optimum point of $IP_{A,>_c}(A \\alpha(i))$.\n",
    "\n",
    "**Lemma 2$^{[1]}$**: $\\exists \\alpha_{i}$ s.t. $\\{\\text{non-optimal solutions of all fibres}\\}=\\bigcup_{i=1}^{t}(\\alpha(i)+N^{n})$  (immediate consequence of Gordan Dickson Lemma$^{[3]}$)\n",
    "\n",
    "We can therefore draw an arrow from $\\alpha(i)$ to $\\beta(i)$ and translate it to all feasible points in $IP_{\\{A,c\\}}$ such that the translated vector is incident at the corresponding feasible points. By this construction we get to a connected digraph with the unique sink at the optimum point.\n",
    "\n",
    "It's an easy corollary that $\\mathscr{G}_{>_{c}}$ is a test set."
   ]
  },
  {
   "cell_type": "markdown",
   "id": "afff1953",
   "metadata": {},
   "source": [
    "**Proof_2 (Algebraic):** We canonically identify the below two terms by\n",
    "\\begin{align*}\n",
    "log:  k[x_1,x_2,...,x_n] & \\to N^{n} \\\\\n",
    " x^{\\alpha} & \\rightarrowtail \\alpha\n",
    "\\end{align*}\n",
    "\n",
    "\n",
    "and the corresponding term order is also identified. (Actually not a term order)\n",
    "\n",
    "Then we need only see the map (We denote $A=[A_1,A_2,...,A_n]$ by column blocking)\n",
    "\\begin{align*}\n",
    "\\phi:  k[x_1,x_2,...,x_n] & \\to k[y^{A_1},y^{A_2},...,y^{A_n}] \\\\\n",
    " x_{i} & \\rightarrowtail y^{A_i}\n",
    "\\end{align*}\n",
    "\n",
    ", whose kernel is $Ker(\\phi) = <(x^{\\alpha(i)}-x^{\\beta(i)}),i=1,2,...,t>$. (see for a proof in $[4]$)\n",
    "\n"
   ]
  },
  {
   "cell_type": "markdown",
   "id": "6a121ff4",
   "metadata": {},
   "source": [
    "Remark: \n",
    "1. We can see therefore that geometric and algebraic methods are actually the same connected by the central mappping $\\phi$. (Meanwhile we denote $\\phi_*$ for the log-identified version of $\\phi$)\n",
    "2. The algorithm in P392 of [5] is based on the Elimination lemma applied to the  $k[x_1,x_2,..,x_n,y_1,y_2,...,y_m]$, which is not applicable in large scale. And so is the old fashioned Geometric Buchberger’s algorithm$^{[1]}$. So with literature [4], we give a new algorithm below\n",
    "$$\\text{Finding Reduced Grobener Basis}\\to \\text{Graph Chasing}$$\n",
    "\n",
    "The detailed algorithm to solve the IP is as follows:\n",
    "1. Calculate a basis $K$ for $\\operatorname{ker} \\phi_{*}$.\n",
    "2. Find an equivalent basis  $K^{\\prime}$  such that all rows of  $K^{\\prime}$  lie in the same orthant.\n",
    "3. Let  $J$  be the index set of all columns with negative entries and let  $K_{J}^{\\prime}$  be the matrix obtained from  $K^{\\prime}$  by reversing the signs of the columns indexed by  $J$. \n",
    "4. Let $G_{J}=\\varphi\\left(K_{J}^{\\prime}\\right)$.\n",
    "5. Until  $J=\\varnothing$ , repeat this: Take  $j \\in J$  and let  $G_{J \\backslash\\{j\\}}$  be the result of $T_{j}$ operating on the reduced Gröbner basis for  $G_{J}$ with respect to a term order that eliminates  $x_{j}$ ; then let  $J \\leftarrow   J \\backslash\\{j\\}$ .\n",
    "6. Output  $G_{\\varnothing}$ , a generating set for  $\\operatorname{ker} \\phi $, which is the $(x^{\\alpha(i)}-x^{\\beta(i)})$ we needed.\n",
    "\n",
    "7. Graph Chasing.\n",
    "\n",
    "All that left to do is a simulation."
   ]
  },
  {
   "cell_type": "markdown",
   "id": "e239c6a6",
   "metadata": {},
   "source": [
    "****"
   ]
  },
  {
   "cell_type": "markdown",
   "id": "2c40055e",
   "metadata": {},
   "source": [
    "**Thm 2** By giving different $>$ for $>_c$, we can get to all optimum points of the problem $IP_{A,c}$\n",
    "\n",
    "**Proof:** By changing $>$ we can give arbitrary optimum the chance to still be the optimum considering $>_c$. "
   ]
  },
  {
   "cell_type": "markdown",
   "id": "658ba9b8",
   "metadata": {},
   "source": [
    "****"
   ]
  },
  {
   "cell_type": "code",
   "execution_count": null,
   "id": "c0087765",
   "metadata": {},
   "outputs": [],
   "source": []
  }
 ],
 "metadata": {
  "kernelspec": {
   "display_name": "Python 3",
   "language": "python",
   "name": "python3"
  },
  "language_info": {
   "codemirror_mode": {
    "name": "ipython",
    "version": 3
   },
   "file_extension": ".py",
   "mimetype": "text/x-python",
   "name": "python",
   "nbconvert_exporter": "python",
   "pygments_lexer": "ipython3",
   "version": "3.8.13"
  }
 },
 "nbformat": 4,
 "nbformat_minor": 5
}
